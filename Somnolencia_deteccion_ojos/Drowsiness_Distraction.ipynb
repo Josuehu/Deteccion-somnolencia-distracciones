{
 "cells": [
  {
   "cell_type": "code",
   "execution_count": 1,
   "metadata": {},
   "outputs": [],
   "source": [
    "from scipy.spatial import distance\n",
    "from imutils.video import FileVideoStream\n",
    "from imutils.video import VideoStream\n",
    "from imutils import face_utils\n",
    "from threading import Thread\n",
    "import numpy as np\n",
    "import playsound\n",
    "import argparse\n",
    "import imutils\n",
    "import time\n",
    "import dlib\n",
    "import cv2"
   ]
  },
  {
   "cell_type": "code",
   "execution_count": 2,
   "metadata": {},
   "outputs": [],
   "source": [
    "def eye_aspect_ratio(eye):\n",
    "\t# compute the euclidean distances between the two sets of\n",
    "\t# vertical eye landmarks (x, y)-coordinates\n",
    "\tA = distance.euclidean(eye[1], eye[5])\n",
    "\tB = distance.euclidean(eye[2], eye[4])\n",
    "\t\n",
    "    # compute the euclidean distance between the horizontal\n",
    "\t# eye landmark (x, y)-coordinates\n",
    "\tC = distance.euclidean(eye[0], eye[3])\n",
    "\t\n",
    "    # compute the eye aspect ratio\n",
    "\tear = (A + B) / (2.0 * C)\n",
    "\t\n",
    "    # return the eye aspect ratio\n",
    "\treturn ear"
   ]
  },
  {
   "cell_type": "code",
   "execution_count": 3,
   "metadata": {},
   "outputs": [],
   "source": [
    "def sound_alarm():\n",
    "\t# play an alarm sound\n",
    "\tplaysound.playsound(\"C:\\\\Users\\\\c_j15\\\\OneDrive\\\\Documents\\\\Carlos\\\\Machine Learning\\\\Saturdays\\\\Proyecto\\\\Somnolencia y distractores\\\\Somnolencia 2\\\\Somnolencia_deteccion_ojos\\\\sound\\\\alarm2.mp3\")\n",
    "\t"
   ]
  },
  {
   "cell_type": "code",
   "execution_count": 4,
   "metadata": {},
   "outputs": [],
   "source": [
    "# define two constants, one for the eye aspect ratio to indicate\n",
    "# blink and then a second constant for the number of consecutive\n",
    "# frames the eye must be below the threshold for to set off the\n",
    "# alarm\n",
    "EYE_AR_THRESH = 0.3\n",
    "EYE_AR_CONSEC_FRAMES = 96\n",
    "EYE_AR_NOT_DETECTED_FRAMES = 96\n",
    "\n",
    "# initialize the frame counters for drowsiness and eyes distraction\n",
    "# as well as a boolean used to indicate if the alarm is going off\n",
    "COUNTER_DROWSINESS = 0\n",
    "COUNTER_EYES_NOT_DETECTED = 0\n",
    "ALARM_ON = False\n",
    "ENVIO_ALERTA = False\n",
    "MENSAJE_ALERTA = \"\""
   ]
  },
  {
   "cell_type": "code",
   "execution_count": 5,
   "metadata": {},
   "outputs": [],
   "source": [
    "# initialize dlib's face detector (HOG-based) and then create\n",
    "# the facial landmark predictor\n",
    "detect = dlib.get_frontal_face_detector()\n",
    "predict = dlib.shape_predictor(\"models/shape_predictor_68_face_landmarks.dat\")# Dat file is the crux of the code"
   ]
  },
  {
   "cell_type": "code",
   "execution_count": 6,
   "metadata": {},
   "outputs": [],
   "source": [
    "# grab the indexes of the facial landmarks for the left and\n",
    "# right eye, respectively\n",
    "(lStart, lEnd) = face_utils.FACIAL_LANDMARKS_IDXS[\"left_eye\"]\n",
    "(rStart, rEnd) = face_utils.FACIAL_LANDMARKS_IDXS[\"right_eye\"]"
   ]
  },
  {
   "cell_type": "code",
   "execution_count": 7,
   "metadata": {},
   "outputs": [],
   "source": [
    "# start video capture\n",
    "cap=cv2.VideoCapture(0)"
   ]
  },
  {
   "cell_type": "code",
   "execution_count": 8,
   "metadata": {},
   "outputs": [
    {
     "name": "stdout",
     "output_type": "stream",
     "text": [
      " Estado envio alerta en conductor distraidoFalse\n",
      " Estado envio alerta en conductor distraidoFalse\n",
      " Estado envio alerta en conductor distraidoFalse\n",
      " Estado envio alerta en conductor distraidoFalse\n",
      " Estado envio alerta en conductor distraidoFalse\n",
      " Estado envio alerta en conductor distraidoFalse\n",
      " Estado envio alerta en conductor distraidoFalse\n",
      " Estado envio alerta en conductor distraidoFalse\n",
      " Estado envio alerta en conductor distraidoFalse\n",
      " Estado envio alerta en conductor distraidoFalse\n"
     ]
    }
   ],
   "source": [
    "while True:\n",
    "\tret, frame=cap.read()\n",
    "\tframe = imutils.resize(frame, width=450)\n",
    "\t\n",
    "\t# detect faces in the grayscale frame\n",
    "\tgray = cv2.cvtColor(frame, cv2.COLOR_BGR2GRAY)\n",
    "\tsubjects = detect(gray, 0)\n",
    "\tENVIO_ALERTA = False\n",
    "\t#Si subjects se encuentra vacio no se detectaron ojos en el cuadro \n",
    "\tif not subjects:\n",
    "\t\tCOUNTER_EYES_NOT_DETECTED += 1\n",
    "\n",
    "\t\tif COUNTER_EYES_NOT_DETECTED >= EYE_AR_NOT_DETECTED_FRAMES:\n",
    "\t\t\t# if the alarm is not on, turn it on\n",
    "\t\t\tprint(f\" Estado envio alerta en conductor distraido{ENVIO_ALERTA}\")\n",
    "\t\t\tif not ALARM_ON and not ENVIO_ALERTA:\n",
    "\t\t\t\tALARM_ON = True\n",
    "\t\t\t\tENVIO_ALERTA = True\n",
    "\t\t\t\tMENSAJE_ALERTA = \"***CONDUCTOR DISTRAIDO!***\"\n",
    "\t\t\t\t#t = Thread(target=sound_alarm(frame,MENSAJE_ALERTA),)\n",
    "\t\t\t\tt = Thread(target=sound_alarm(),)\n",
    "\t\t\t\tt.deamon = True\n",
    "\t\t\t\tt.start()\n",
    "\t\t\t\tcv2.putText(frame, MENSAJE_ALERTA, (10, 30),\n",
    "\t\t\t\t\tcv2.FONT_HERSHEY_SIMPLEX, 0.7, (0, 0, 255), 2)\t\t\t\t\t\n",
    "\telse: \n",
    "\t\tCOUNTER_EYES_NOT_DETECTED = 0\n",
    "\t\tALARM_ON = False\n",
    "\t\t\n",
    "\t\t\n",
    "\t\tfor subject in subjects:\n",
    "\t\t\t# determine the facial landmarks for the face region, then\n",
    "\t\t\t# convert the facial landmark (x, y)-coordinates to a NumPy array\n",
    "\t\t\tshape = predict(gray, subject)\n",
    "\t\t\tshape = face_utils.shape_to_np(shape)#converting to NumPy Array\n",
    "\n",
    "\t\t\t# extract the left and right eye coordinates, then use the\n",
    "\t\t\t# coordinates to compute the eye aspect ratio for both eyes\n",
    "\t\t\tleftEye = shape[lStart:lEnd]\n",
    "\t\t\trightEye = shape[rStart:rEnd]\n",
    "\t\t\tleftEAR = eye_aspect_ratio(leftEye)\n",
    "\t\t\trightEAR = eye_aspect_ratio(rightEye)\n",
    "\n",
    "\t\t\t# average the eye aspect ratio together for both eyes\n",
    "\t\t\tear = (leftEAR + rightEAR) / 2.0\n",
    "\n",
    "\t\t\t# compute the convex hull for the left and right eye\n",
    "\t\t\tleftEyeHull = cv2.convexHull(leftEye)\n",
    "\t\t\trightEyeHull = cv2.convexHull(rightEye)\n",
    "\t\t\n",
    "\t\t\t# visualize each of the eyes\n",
    "\t\t\tcv2.drawContours(frame, [leftEyeHull], -1, (0, 255, 0), 1)\n",
    "\t\t\tcv2.drawContours(frame, [rightEyeHull], -1, (0, 255, 0), 1)\n",
    "\t\t\n",
    "\t\t\t# check to see if the eye aspect ratio is below the blink\n",
    "\t\t\t# threshold, and if so, increment the blink frame counter\n",
    "\t\t\tif ear < EYE_AR_THRESH:\n",
    "\t\t\t\t#flag += 1\n",
    "\t\t\t\tCOUNTER_DROWSINESS += 1\n",
    "\n",
    "\t\t\t\t# if the eyes were closed for a sufficient number of then sound the alarm\n",
    "\t\t\t\tif COUNTER_DROWSINESS >= EYE_AR_CONSEC_FRAMES:\n",
    "\t\t\t\t\tprint(f\" Estado envio alerta en conductor somnoliento{ENVIO_ALERTA}\")\n",
    "\t\t\t\t\t# if the alarm is not on, turn it on\n",
    "\t\t\t\t\tif not ALARM_ON and not ENVIO_ALERTA:\n",
    "\t\t\t\t\t\t# check to see if an alarm file was supplied,\n",
    "\t\t\t\t\t\t# and if so, start a thread to have the alarm\n",
    "\t\t\t\t\t\t# sound played in the background\n",
    "\t\t\t\t\t\tALARM_ON = True\n",
    "\t\t\t\t\t\tENVIO_ALERTA = True\n",
    "\t\t\t\t\t\tMENSAJE_ALERTA = \"***ALERTA DE SOMNOLENCIA!***\"\n",
    "\t\t\t\t\t\t#t = Thread(target=sound_alarm(frame,MENSAJE_ALERTA),)\n",
    "\t\t\t\t\t\tt = Thread(target=sound_alarm(),)\n",
    "\t\t\t\t\t\tt.deamon = True\n",
    "\t\t\t\t\t\tt.start()\n",
    "\t\t\t\t\t\tcv2.putText(frame, MENSAJE_ALERTA, (10, 30),\n",
    "\t\t\t\t\t\t\tcv2.FONT_HERSHEY_SIMPLEX, 0.7, (0, 0, 255), 2)\t\t\t\t\t\t\n",
    "\t\t\t\t\t\t\t\t\t\t\n",
    "\t\t\n",
    "\t\t\t# otherwise, the eye aspect ratio is not below the blink\n",
    "\t\t\t# threshold, so reset the counter and alarm\n",
    "\t\t\telse:\n",
    "\t\t\t\tCOUNTER_DROWSINESS = 0\n",
    "\t\t\t\tALARM_ON = False\n",
    "\t\t\t\t\n",
    "\tcv2.imshow(\"Frame\", frame)\n",
    "\tkey = cv2.waitKey(1) & 0xFF\n",
    "\tif key == ord(\"q\"):\n",
    "\t\tbreak\n",
    "cv2.destroyAllWindows()\n",
    "cap.release() "
   ]
  }
 ],
 "metadata": {
  "interpreter": {
   "hash": "6c1da03702e63ce975f2b1a8151b6a07e12b09d3eef6ff1e9b12c71d7e9d5ed2"
  },
  "kernelspec": {
   "display_name": "Python 3.9.5 64-bit",
   "language": "python",
   "name": "python3"
  },
  "language_info": {
   "codemirror_mode": {
    "name": "ipython",
    "version": 3
   },
   "file_extension": ".py",
   "mimetype": "text/x-python",
   "name": "python",
   "nbconvert_exporter": "python",
   "pygments_lexer": "ipython3",
   "version": "3.9.5"
  },
  "orig_nbformat": 4
 },
 "nbformat": 4,
 "nbformat_minor": 2
}
